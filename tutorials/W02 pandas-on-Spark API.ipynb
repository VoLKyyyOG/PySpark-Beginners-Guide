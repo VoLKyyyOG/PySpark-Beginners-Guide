{
 "cells": [
  {
   "cell_type": "markdown",
   "id": "988f37e5",
   "metadata": {},
   "source": [
    "# Apache Spark 3.2 (PySpark) Tutorial\n",
    "- Author: Akira Takihara Wang (https://github.com/akiratwang)\n",
    "\n",
    "Tutorial Operating System(s):\n",
    "- Windows 10 and WSL2\n",
    "- Linux"
   ]
  },
  {
   "cell_type": "code",
   "execution_count": 1,
   "id": "9eb868a0",
   "metadata": {
    "ExecuteTime": {
     "end_time": "2021-11-24T04:52:28.110685Z",
     "start_time": "2021-11-24T04:52:25.138816Z"
    }
   },
   "outputs": [
    {
     "name": "stderr",
     "output_type": "stream",
     "text": [
      "21/11/24 15:52:26 WARN Utils: Your hostname, NeonEx resolves to a loopback address: 127.0.1.1; using 10.1.1.247 instead (on interface eth0)\n",
      "21/11/24 15:52:26 WARN Utils: Set SPARK_LOCAL_IP if you need to bind to another address\n",
      "Using Spark's default log4j profile: org/apache/spark/log4j-defaults.properties\n",
      "Setting default log level to \"WARN\".\n",
      "To adjust logging level use sc.setLogLevel(newLevel). For SparkR, use setLogLevel(newLevel).\n",
      "21/11/24 15:52:26 WARN NativeCodeLoader: Unable to load native-hadoop library for your platform... using builtin-java classes where applicable\n"
     ]
    }
   ],
   "source": [
    "from pyspark.sql import SparkSession\n",
    "\n",
    "spark = SparkSession \\\n",
    "    .builder \\\n",
    "    .appName(\"PySpark Pandas API\") \\\n",
    "    .config(\"spark.sql.repl.eagerEval.enabled\", True) \\\n",
    "    .getOrCreate()"
   ]
  },
  {
   "cell_type": "markdown",
   "id": "457217b0",
   "metadata": {},
   "source": [
    "# `pandas`-on-Spark (Spark's `pandas` API)\n",
    "From Apache Spark 3.2+, you can now use the `pandas` API: \n",
    "- https://databricks.com/blog/2021/10/04/pandas-api-on-upcoming-apache-spark-3-2.html\n",
    "\n",
    "Essentially, this implements the `pandas.DataFrame` API on top of PySpark. For example, `pandas` users can simply scale their workloads by changing the imports.\n",
    "\n",
    "**Terminology:**\n",
    "- `pandas-on-Spark` refers to Spark's `pandas` API.\n",
    "- `sdf`: Spark DataFrame\n",
    "- `pdf`: Pandas DataFrame (specifically used to differentiate between `sdf` and `pdf`)\n",
    "- `psdf`: `pandas-on-Spark` DataFrame (PySpark's version of the `pandas.DataFrame`)\n",
    "- `df`: DataFrame (usually from the `pandas` library)\n",
    "- `ps`: Spark's `pandas` API (`pyspark.pandas`)"
   ]
  },
  {
   "cell_type": "markdown",
   "id": "92b93c55",
   "metadata": {},
   "source": [
    "Previously, we read in a `CSV` with the following code:"
   ]
  },
  {
   "cell_type": "code",
   "execution_count": 2,
   "id": "0b805dba",
   "metadata": {
    "ExecuteTime": {
     "end_time": "2021-11-24T04:52:31.182179Z",
     "start_time": "2021-11-24T04:52:28.112677Z"
    }
   },
   "outputs": [
    {
     "data": {
      "text/html": [
       "<table border='1'>\n",
       "<tr><th>VendorID</th><th>tpep_pickup_datetime</th><th>tpep_dropoff_datetime</th><th>passenger_count</th><th>trip_distance</th><th>pickup_longitude</th><th>pickup_latitude</th><th>RatecodeID</th><th>store_and_fwd_flag</th><th>dropoff_longitude</th><th>dropoff_latitude</th><th>payment_type</th><th>fare_amount</th><th>extra</th><th>mta_tax</th><th>tip_amount</th><th>tolls_amount</th><th>improvement_surcharge</th><th>total_amount</th></tr>\n",
       "<tr><td>2</td><td>1/12/15 0:00</td><td>1/12/15 0:05</td><td>5</td><td>0.96</td><td>-73.97994232</td><td>40.76538086</td><td>1</td><td>N</td><td>-73.96630859</td><td>40.76308823</td><td>1</td><td>5.5</td><td>0.5</td><td>0.5</td><td>1.0</td><td>0.0</td><td>0.3</td><td>7.8</td></tr>\n",
       "<tr><td>2</td><td>1/12/15 0:00</td><td>1/12/15 0:00</td><td>2</td><td>2.69</td><td>-73.97233582</td><td>40.76237869</td><td>1</td><td>N</td><td>-73.99362946</td><td>40.74599838</td><td>1</td><td>21.5</td><td>0.0</td><td>0.5</td><td>3.34</td><td>0.0</td><td>0.3</td><td>25.64</td></tr>\n",
       "<tr><td>2</td><td>1/12/15 0:00</td><td>1/12/15 0:00</td><td>1</td><td>2.62</td><td>-73.96884918</td><td>40.76453018</td><td>1</td><td>N</td><td>-73.97454834</td><td>40.79164124</td><td>1</td><td>17.0</td><td>0.0</td><td>0.5</td><td>3.56</td><td>0.0</td><td>0.3</td><td>21.36</td></tr>\n",
       "<tr><td>1</td><td>1/12/15 0:00</td><td>1/12/15 0:05</td><td>1</td><td>1.2</td><td>-73.99393463</td><td>40.74168396</td><td>1</td><td>N</td><td>-73.99766541</td><td>40.74746704</td><td>1</td><td>6.5</td><td>0.5</td><td>0.5</td><td>0.2</td><td>0.0</td><td>0.3</td><td>8.0</td></tr>\n",
       "<tr><td>1</td><td>1/12/15 0:00</td><td>1/12/15 0:09</td><td>2</td><td>3.0</td><td>-73.98892212</td><td>40.72698975</td><td>1</td><td>N</td><td>-73.97559357</td><td>40.6968689</td><td>2</td><td>11.0</td><td>0.5</td><td>0.5</td><td>0.0</td><td>0.0</td><td>0.3</td><td>12.3</td></tr>\n",
       "</table>\n"
      ],
      "text/plain": [
       "+--------+--------------------+---------------------+---------------+-------------+----------------+---------------+----------+------------------+-----------------+----------------+------------+-----------+-----+-------+----------+------------+---------------------+------------+\n",
       "|VendorID|tpep_pickup_datetime|tpep_dropoff_datetime|passenger_count|trip_distance|pickup_longitude|pickup_latitude|RatecodeID|store_and_fwd_flag|dropoff_longitude|dropoff_latitude|payment_type|fare_amount|extra|mta_tax|tip_amount|tolls_amount|improvement_surcharge|total_amount|\n",
       "+--------+--------------------+---------------------+---------------+-------------+----------------+---------------+----------+------------------+-----------------+----------------+------------+-----------+-----+-------+----------+------------+---------------------+------------+\n",
       "|       2|        1/12/15 0:00|         1/12/15 0:05|              5|         0.96|    -73.97994232|    40.76538086|         1|                 N|     -73.96630859|     40.76308823|           1|        5.5|  0.5|    0.5|       1.0|         0.0|                  0.3|         7.8|\n",
       "|       2|        1/12/15 0:00|         1/12/15 0:00|              2|         2.69|    -73.97233582|    40.76237869|         1|                 N|     -73.99362946|     40.74599838|           1|       21.5|  0.0|    0.5|      3.34|         0.0|                  0.3|       25.64|\n",
       "|       2|        1/12/15 0:00|         1/12/15 0:00|              1|         2.62|    -73.96884918|    40.76453018|         1|                 N|     -73.97454834|     40.79164124|           1|       17.0|  0.0|    0.5|      3.56|         0.0|                  0.3|       21.36|\n",
       "|       1|        1/12/15 0:00|         1/12/15 0:05|              1|          1.2|    -73.99393463|    40.74168396|         1|                 N|     -73.99766541|     40.74746704|           1|        6.5|  0.5|    0.5|       0.2|         0.0|                  0.3|         8.0|\n",
       "|       1|        1/12/15 0:00|         1/12/15 0:09|              2|          3.0|    -73.98892212|    40.72698975|         1|                 N|     -73.97559357|      40.6968689|           2|       11.0|  0.5|    0.5|       0.0|         0.0|                  0.3|        12.3|\n",
       "+--------+--------------------+---------------------+---------------+-------------+----------------+---------------+----------+------------------+-----------------+----------------+------------+-----------+-----+-------+----------+------------+---------------------+------------+"
      ]
     },
     "execution_count": 2,
     "metadata": {},
     "output_type": "execute_result"
    }
   ],
   "source": [
    "sdf = spark.read.csv('../data/sample.csv', header=True)\n",
    "sdf.limit(5)"
   ]
  },
  {
   "cell_type": "markdown",
   "id": "5ebe84a2",
   "metadata": {},
   "source": [
    "Now, we can do something like this:"
   ]
  },
  {
   "cell_type": "code",
   "execution_count": 45,
   "id": "78226b9d",
   "metadata": {
    "ExecuteTime": {
     "end_time": "2021-11-24T05:09:43.673605Z",
     "start_time": "2021-11-24T05:09:43.180249Z"
    }
   },
   "outputs": [
    {
     "name": "stderr",
     "output_type": "stream",
     "text": [
      "21/11/24 16:09:43 WARN WindowExec: No Partition Defined for Window operation! Moving all data to a single partition, this can cause serious performance degradation.\n",
      "21/11/24 16:09:43 WARN WindowExec: No Partition Defined for Window operation! Moving all data to a single partition, this can cause serious performance degradation.\n"
     ]
    },
    {
     "data": {
      "text/html": [
       "<div>\n",
       "<style scoped>\n",
       "    .dataframe tbody tr th:only-of-type {\n",
       "        vertical-align: middle;\n",
       "    }\n",
       "\n",
       "    .dataframe tbody tr th {\n",
       "        vertical-align: top;\n",
       "    }\n",
       "\n",
       "    .dataframe thead th {\n",
       "        text-align: right;\n",
       "    }\n",
       "</style>\n",
       "<table border=\"1\" class=\"dataframe\">\n",
       "  <thead>\n",
       "    <tr style=\"text-align: right;\">\n",
       "      <th></th>\n",
       "      <th>VendorID</th>\n",
       "      <th>tpep_pickup_datetime</th>\n",
       "      <th>tpep_dropoff_datetime</th>\n",
       "      <th>passenger_count</th>\n",
       "      <th>trip_distance</th>\n",
       "      <th>pickup_longitude</th>\n",
       "      <th>pickup_latitude</th>\n",
       "      <th>RatecodeID</th>\n",
       "      <th>store_and_fwd_flag</th>\n",
       "      <th>dropoff_longitude</th>\n",
       "      <th>dropoff_latitude</th>\n",
       "      <th>payment_type</th>\n",
       "      <th>fare_amount</th>\n",
       "      <th>extra</th>\n",
       "      <th>mta_tax</th>\n",
       "      <th>tip_amount</th>\n",
       "      <th>tolls_amount</th>\n",
       "      <th>improvement_surcharge</th>\n",
       "      <th>total_amount</th>\n",
       "    </tr>\n",
       "  </thead>\n",
       "  <tbody>\n",
       "    <tr>\n",
       "      <th>0</th>\n",
       "      <td>2</td>\n",
       "      <td>1/12/15 0:00</td>\n",
       "      <td>1/12/15 0:05</td>\n",
       "      <td>5</td>\n",
       "      <td>0.96</td>\n",
       "      <td>-73.979942</td>\n",
       "      <td>40.765381</td>\n",
       "      <td>1</td>\n",
       "      <td>N</td>\n",
       "      <td>-73.966309</td>\n",
       "      <td>40.763088</td>\n",
       "      <td>1</td>\n",
       "      <td>5.5</td>\n",
       "      <td>0.5</td>\n",
       "      <td>0.5</td>\n",
       "      <td>1.00</td>\n",
       "      <td>0.0</td>\n",
       "      <td>0.3</td>\n",
       "      <td>7.80</td>\n",
       "    </tr>\n",
       "    <tr>\n",
       "      <th>1</th>\n",
       "      <td>2</td>\n",
       "      <td>1/12/15 0:00</td>\n",
       "      <td>1/12/15 0:00</td>\n",
       "      <td>2</td>\n",
       "      <td>2.69</td>\n",
       "      <td>-73.972336</td>\n",
       "      <td>40.762379</td>\n",
       "      <td>1</td>\n",
       "      <td>N</td>\n",
       "      <td>-73.993629</td>\n",
       "      <td>40.745998</td>\n",
       "      <td>1</td>\n",
       "      <td>21.5</td>\n",
       "      <td>0.0</td>\n",
       "      <td>0.5</td>\n",
       "      <td>3.34</td>\n",
       "      <td>0.0</td>\n",
       "      <td>0.3</td>\n",
       "      <td>25.64</td>\n",
       "    </tr>\n",
       "    <tr>\n",
       "      <th>2</th>\n",
       "      <td>2</td>\n",
       "      <td>1/12/15 0:00</td>\n",
       "      <td>1/12/15 0:00</td>\n",
       "      <td>1</td>\n",
       "      <td>2.62</td>\n",
       "      <td>-73.968849</td>\n",
       "      <td>40.764530</td>\n",
       "      <td>1</td>\n",
       "      <td>N</td>\n",
       "      <td>-73.974548</td>\n",
       "      <td>40.791641</td>\n",
       "      <td>1</td>\n",
       "      <td>17.0</td>\n",
       "      <td>0.0</td>\n",
       "      <td>0.5</td>\n",
       "      <td>3.56</td>\n",
       "      <td>0.0</td>\n",
       "      <td>0.3</td>\n",
       "      <td>21.36</td>\n",
       "    </tr>\n",
       "    <tr>\n",
       "      <th>3</th>\n",
       "      <td>1</td>\n",
       "      <td>1/12/15 0:00</td>\n",
       "      <td>1/12/15 0:05</td>\n",
       "      <td>1</td>\n",
       "      <td>1.20</td>\n",
       "      <td>-73.993935</td>\n",
       "      <td>40.741684</td>\n",
       "      <td>1</td>\n",
       "      <td>N</td>\n",
       "      <td>-73.997665</td>\n",
       "      <td>40.747467</td>\n",
       "      <td>1</td>\n",
       "      <td>6.5</td>\n",
       "      <td>0.5</td>\n",
       "      <td>0.5</td>\n",
       "      <td>0.20</td>\n",
       "      <td>0.0</td>\n",
       "      <td>0.3</td>\n",
       "      <td>8.00</td>\n",
       "    </tr>\n",
       "    <tr>\n",
       "      <th>4</th>\n",
       "      <td>1</td>\n",
       "      <td>1/12/15 0:00</td>\n",
       "      <td>1/12/15 0:09</td>\n",
       "      <td>2</td>\n",
       "      <td>3.00</td>\n",
       "      <td>-73.988922</td>\n",
       "      <td>40.726990</td>\n",
       "      <td>1</td>\n",
       "      <td>N</td>\n",
       "      <td>-73.975594</td>\n",
       "      <td>40.696869</td>\n",
       "      <td>2</td>\n",
       "      <td>11.0</td>\n",
       "      <td>0.5</td>\n",
       "      <td>0.5</td>\n",
       "      <td>0.00</td>\n",
       "      <td>0.0</td>\n",
       "      <td>0.3</td>\n",
       "      <td>12.30</td>\n",
       "    </tr>\n",
       "  </tbody>\n",
       "</table>\n",
       "</div>"
      ],
      "text/plain": [
       "   VendorID tpep_pickup_datetime tpep_dropoff_datetime  passenger_count  trip_distance  pickup_longitude  pickup_latitude  RatecodeID store_and_fwd_flag  dropoff_longitude  dropoff_latitude  payment_type  fare_amount  extra  mta_tax  tip_amount  tolls_amount  improvement_surcharge  total_amount\n",
       "0         2         1/12/15 0:00          1/12/15 0:05                5           0.96        -73.979942        40.765381           1                  N         -73.966309         40.763088             1          5.5    0.5      0.5        1.00           0.0                    0.3          7.80\n",
       "1         2         1/12/15 0:00          1/12/15 0:00                2           2.69        -73.972336        40.762379           1                  N         -73.993629         40.745998             1         21.5    0.0      0.5        3.34           0.0                    0.3         25.64\n",
       "2         2         1/12/15 0:00          1/12/15 0:00                1           2.62        -73.968849        40.764530           1                  N         -73.974548         40.791641             1         17.0    0.0      0.5        3.56           0.0                    0.3         21.36\n",
       "3         1         1/12/15 0:00          1/12/15 0:05                1           1.20        -73.993935        40.741684           1                  N         -73.997665         40.747467             1          6.5    0.5      0.5        0.20           0.0                    0.3          8.00\n",
       "4         1         1/12/15 0:00          1/12/15 0:09                2           3.00        -73.988922        40.726990           1                  N         -73.975594         40.696869             2         11.0    0.5      0.5        0.00           0.0                    0.3         12.30"
      ]
     },
     "execution_count": 45,
     "metadata": {},
     "output_type": "execute_result"
    }
   ],
   "source": [
    "import pyspark.pandas as ps\n",
    "\n",
    "pdf = ps.read_csv('../data/sample.csv')\n",
    "pdf.head()"
   ]
  },
  {
   "cell_type": "markdown",
   "id": "b3b99d71",
   "metadata": {},
   "source": [
    "Before we dive into this new API, there are some other concepts you need to know. You'll notice there are some warnings from `WindowExec` when you run the code above. \n",
    "\n",
    "What is it? From https://databricks.com/blog/2015/07/15/introducing-window-functions-in-spark-sql.html:\n",
    "- Window functions allow users of Spark SQL to calculate results such as the rank of a given row or a moving average over a range of input rows. \n",
    "- At its core, a window function calculates a return value for every input row of a table based on a group of rows, called the `Frame`. \n",
    "- Every input row can have a unique `frame` associated with it. \n",
    "- This characteristic of window functions makes them more powerful than other functions and allows users to express various data processing tasks that are hard (if not impossible) to be expressed without window functions in a concise way. "
   ]
  },
  {
   "cell_type": "markdown",
   "id": "67176d9c",
   "metadata": {},
   "source": [
    "## Options and Settings\n",
    "Like `pandas`, `pandas-on-Spark` allows for options such as the maximum number of rows to display and/or compute."
   ]
  },
  {
   "cell_type": "code",
   "execution_count": 4,
   "id": "39f7363a",
   "metadata": {
    "ExecuteTime": {
     "end_time": "2021-11-24T04:52:32.813655Z",
     "start_time": "2021-11-24T04:52:32.810401Z"
    }
   },
   "outputs": [
    {
     "data": {
      "text/plain": [
       "100"
      ]
     },
     "execution_count": 4,
     "metadata": {},
     "output_type": "execute_result"
    }
   ],
   "source": [
    "# original pandas way to change max rows\n",
    "import pandas as pd\n",
    "\n",
    "pd.options.display.max_rows = 100\n",
    "pd.options.display.max_rows"
   ]
  },
  {
   "cell_type": "code",
   "execution_count": 5,
   "id": "58f9e57d",
   "metadata": {
    "ExecuteTime": {
     "end_time": "2021-11-24T04:52:32.821274Z",
     "start_time": "2021-11-24T04:52:32.814961Z"
    }
   },
   "outputs": [
    {
     "data": {
      "text/plain": [
       "100"
      ]
     },
     "execution_count": 5,
     "metadata": {},
     "output_type": "execute_result"
    }
   ],
   "source": [
    "# it's the exact same in spark's pandas API as well\n",
    "import pyspark.pandas as ps\n",
    "\n",
    "ps.options.display.max_rows = 100\n",
    "ps.options.display.max_rows"
   ]
  },
  {
   "cell_type": "markdown",
   "id": "d5241aa7",
   "metadata": {},
   "source": [
    "So what kind of options are available for us?\n",
    "1. `ps.get_option(your option)`\n",
    "2. `ps.set_option(your option, new value)`\n",
    "3. `ps.reset_option(your option)`\n",
    "\n",
    "The code above has the following equivalent:\n",
    "```python\n",
    "ps.set_option('display.max_rows', 100)\n",
    "ps.get_option('display.max_rows')\n",
    "```"
   ]
  },
  {
   "cell_type": "code",
   "execution_count": 6,
   "id": "69bd486f",
   "metadata": {
    "ExecuteTime": {
     "end_time": "2021-11-24T04:52:32.830711Z",
     "start_time": "2021-11-24T04:52:32.823810Z"
    }
   },
   "outputs": [],
   "source": [
    "# lets set the max compute rows to 2000\n",
    "ps.set_option('compute.max_rows', 2000)"
   ]
  },
  {
   "cell_type": "code",
   "execution_count": 7,
   "id": "24e52704",
   "metadata": {
    "ExecuteTime": {
     "end_time": "2021-11-24T04:52:32.837692Z",
     "start_time": "2021-11-24T04:52:32.832234Z"
    }
   },
   "outputs": [
    {
     "data": {
      "text/plain": [
       "2000"
      ]
     },
     "execution_count": 7,
     "metadata": {},
     "output_type": "execute_result"
    }
   ],
   "source": [
    "# now let's see it \n",
    "ps.get_option('compute.max_rows')"
   ]
  },
  {
   "cell_type": "code",
   "execution_count": 8,
   "id": "7414f56a",
   "metadata": {
    "ExecuteTime": {
     "end_time": "2021-11-24T04:52:32.847700Z",
     "start_time": "2021-11-24T04:52:32.839121Z"
    }
   },
   "outputs": [
    {
     "data": {
      "text/plain": [
       "1000"
      ]
     },
     "execution_count": 8,
     "metadata": {},
     "output_type": "execute_result"
    }
   ],
   "source": [
    "# reset it to default (1000 rows)\n",
    "ps.reset_option('compute.max_rows')\n",
    "\n",
    "# and verify it\n",
    "ps.get_option('compute.max_rows')"
   ]
  },
  {
   "cell_type": "markdown",
   "id": "fd59572d",
   "metadata": {},
   "source": [
    "# `.transform()` and `.apply()`\n",
    "The main differences are:\n",
    "- Transform requires a return of the same length as the input (`n` rows in, `n` rows out)\n",
    "- Apply does not require it (`n` rows in, arbitrary number of rows out)\n",
    "\n",
    "Let's create a sample `psdf` and show the differences."
   ]
  },
  {
   "cell_type": "code",
   "execution_count": 22,
   "id": "c81d5f02",
   "metadata": {
    "ExecuteTime": {
     "end_time": "2021-11-24T04:59:39.135313Z",
     "start_time": "2021-11-24T04:59:39.039496Z"
    }
   },
   "outputs": [
    {
     "data": {
      "text/html": [
       "<div>\n",
       "<style scoped>\n",
       "    .dataframe tbody tr th:only-of-type {\n",
       "        vertical-align: middle;\n",
       "    }\n",
       "\n",
       "    .dataframe tbody tr th {\n",
       "        vertical-align: top;\n",
       "    }\n",
       "\n",
       "    .dataframe thead th {\n",
       "        text-align: right;\n",
       "    }\n",
       "</style>\n",
       "<table border=\"1\" class=\"dataframe\">\n",
       "  <thead>\n",
       "    <tr style=\"text-align: right;\">\n",
       "      <th></th>\n",
       "      <th>Col A</th>\n",
       "      <th>Col B</th>\n",
       "    </tr>\n",
       "  </thead>\n",
       "  <tbody>\n",
       "    <tr>\n",
       "      <th>0</th>\n",
       "      <td>0</td>\n",
       "      <td>6</td>\n",
       "    </tr>\n",
       "    <tr>\n",
       "      <th>1</th>\n",
       "      <td>1</td>\n",
       "      <td>7</td>\n",
       "    </tr>\n",
       "    <tr>\n",
       "      <th>2</th>\n",
       "      <td>2</td>\n",
       "      <td>8</td>\n",
       "    </tr>\n",
       "    <tr>\n",
       "      <th>3</th>\n",
       "      <td>3</td>\n",
       "      <td>9</td>\n",
       "    </tr>\n",
       "    <tr>\n",
       "      <th>4</th>\n",
       "      <td>4</td>\n",
       "      <td>10</td>\n",
       "    </tr>\n",
       "  </tbody>\n",
       "</table>\n",
       "</div>"
      ],
      "text/plain": [
       "   Col A  Col B\n",
       "0      0      6\n",
       "1      1      7\n",
       "2      2      8\n",
       "3      3      9\n",
       "4      4     10"
      ]
     },
     "execution_count": 22,
     "metadata": {},
     "output_type": "execute_result"
    }
   ],
   "source": [
    "psdf = ps.DataFrame({'Col A': range(5), 'Col B':range(6, 11)})\n",
    "psdf"
   ]
  },
  {
   "cell_type": "code",
   "execution_count": 23,
   "id": "61089b3a",
   "metadata": {
    "ExecuteTime": {
     "end_time": "2021-11-24T04:59:40.176109Z",
     "start_time": "2021-11-24T04:59:40.024559Z"
    }
   },
   "outputs": [
    {
     "data": {
      "text/html": [
       "<div>\n",
       "<style scoped>\n",
       "    .dataframe tbody tr th:only-of-type {\n",
       "        vertical-align: middle;\n",
       "    }\n",
       "\n",
       "    .dataframe tbody tr th {\n",
       "        vertical-align: top;\n",
       "    }\n",
       "\n",
       "    .dataframe thead th {\n",
       "        text-align: right;\n",
       "    }\n",
       "</style>\n",
       "<table border=\"1\" class=\"dataframe\">\n",
       "  <thead>\n",
       "    <tr style=\"text-align: right;\">\n",
       "      <th></th>\n",
       "      <th>Col A</th>\n",
       "      <th>Col B</th>\n",
       "    </tr>\n",
       "  </thead>\n",
       "  <tbody>\n",
       "    <tr>\n",
       "      <th>0</th>\n",
       "      <td>1</td>\n",
       "      <td>7</td>\n",
       "    </tr>\n",
       "    <tr>\n",
       "      <th>1</th>\n",
       "      <td>2</td>\n",
       "      <td>8</td>\n",
       "    </tr>\n",
       "    <tr>\n",
       "      <th>2</th>\n",
       "      <td>3</td>\n",
       "      <td>9</td>\n",
       "    </tr>\n",
       "    <tr>\n",
       "      <th>3</th>\n",
       "      <td>4</td>\n",
       "      <td>10</td>\n",
       "    </tr>\n",
       "    <tr>\n",
       "      <th>4</th>\n",
       "      <td>5</td>\n",
       "      <td>11</td>\n",
       "    </tr>\n",
       "  </tbody>\n",
       "</table>\n",
       "</div>"
      ],
      "text/plain": [
       "   Col A  Col B\n",
       "0      1      7\n",
       "1      2      8\n",
       "2      3      9\n",
       "3      4     10\n",
       "4      5     11"
      ]
     },
     "execution_count": 23,
     "metadata": {},
     "output_type": "execute_result"
    }
   ],
   "source": [
    "def add_one_transform(series):\n",
    "    \"\"\"\n",
    "    adds one to the series and returns all rows\n",
    "    \"\"\"\n",
    "    return series + 1\n",
    "\n",
    "psdf.transform(add_one_transform)"
   ]
  },
  {
   "cell_type": "code",
   "execution_count": 27,
   "id": "b24f896c",
   "metadata": {
    "ExecuteTime": {
     "end_time": "2021-11-24T05:00:32.014782Z",
     "start_time": "2021-11-24T05:00:31.868610Z"
    }
   },
   "outputs": [
    {
     "data": {
      "text/html": [
       "<div>\n",
       "<style scoped>\n",
       "    .dataframe tbody tr th:only-of-type {\n",
       "        vertical-align: middle;\n",
       "    }\n",
       "\n",
       "    .dataframe tbody tr th {\n",
       "        vertical-align: top;\n",
       "    }\n",
       "\n",
       "    .dataframe thead th {\n",
       "        text-align: right;\n",
       "    }\n",
       "</style>\n",
       "<table border=\"1\" class=\"dataframe\">\n",
       "  <thead>\n",
       "    <tr style=\"text-align: right;\">\n",
       "      <th></th>\n",
       "      <th>Col A</th>\n",
       "      <th>Col B</th>\n",
       "    </tr>\n",
       "  </thead>\n",
       "  <tbody>\n",
       "    <tr>\n",
       "      <th>0</th>\n",
       "      <td>1</td>\n",
       "      <td>7</td>\n",
       "    </tr>\n",
       "    <tr>\n",
       "      <th>2</th>\n",
       "      <td>3</td>\n",
       "      <td>9</td>\n",
       "    </tr>\n",
       "    <tr>\n",
       "      <th>4</th>\n",
       "      <td>5</td>\n",
       "      <td>11</td>\n",
       "    </tr>\n",
       "  </tbody>\n",
       "</table>\n",
       "</div>"
      ],
      "text/plain": [
       "   Col A  Col B\n",
       "0      1      7\n",
       "2      3      9\n",
       "4      5     11"
      ]
     },
     "execution_count": 27,
     "metadata": {},
     "output_type": "execute_result"
    }
   ],
   "source": [
    "def add_one_apply(series):\n",
    "    \"\"\"\n",
    "    adds one to the series, but only returns rows that only have odd numbers\n",
    "    \"\"\"\n",
    "    series += 1\n",
    "    return series.loc[series % 2 == 1]\n",
    "\n",
    "psdf.apply(add_one_apply)"
   ]
  },
  {
   "cell_type": "markdown",
   "id": "2ba67482",
   "metadata": {},
   "source": [
    "You can also specifically apply functions across the rows or columns.\n",
    "\n",
    "Here are some examples:\n",
    "1. Create a new series that combines both columns as a list of values\n",
    "2. Take the sum across each column for each row\n",
    "3. Take the max across each row for each column"
   ]
  },
  {
   "cell_type": "code",
   "execution_count": 36,
   "id": "1a665982",
   "metadata": {
    "ExecuteTime": {
     "end_time": "2021-11-24T05:02:52.422188Z",
     "start_time": "2021-11-24T05:02:52.252936Z"
    }
   },
   "outputs": [
    {
     "data": {
      "text/plain": [
       "0     [0, 6]\n",
       "1     [1, 7]\n",
       "2     [2, 8]\n",
       "3     [3, 9]\n",
       "4    [4, 10]\n",
       "dtype: object"
      ]
     },
     "execution_count": 36,
     "metadata": {},
     "output_type": "execute_result"
    }
   ],
   "source": [
    "psdf.apply(list, axis='columns')"
   ]
  },
  {
   "cell_type": "code",
   "execution_count": 37,
   "id": "b35d2f8b",
   "metadata": {
    "ExecuteTime": {
     "end_time": "2021-11-24T05:03:45.327271Z",
     "start_time": "2021-11-24T05:03:45.185952Z"
    }
   },
   "outputs": [
    {
     "data": {
      "text/plain": [
       "0     6\n",
       "1     8\n",
       "2    10\n",
       "3    12\n",
       "4    14\n",
       "dtype: int64"
      ]
     },
     "execution_count": 37,
     "metadata": {},
     "output_type": "execute_result"
    }
   ],
   "source": [
    "psdf.apply(sum, axis='columns')"
   ]
  },
  {
   "cell_type": "code",
   "execution_count": 41,
   "id": "63581508",
   "metadata": {
    "ExecuteTime": {
     "end_time": "2021-11-24T05:04:28.727944Z",
     "start_time": "2021-11-24T05:04:28.597594Z"
    }
   },
   "outputs": [
    {
     "data": {
      "text/plain": [
       "Col A     4\n",
       "Col B    10\n",
       "dtype: int64"
      ]
     },
     "execution_count": 41,
     "metadata": {},
     "output_type": "execute_result"
    }
   ],
   "source": [
    "psdf.apply(max)"
   ]
  }
 ],
 "metadata": {
  "kernelspec": {
   "display_name": "Python 3 (ipykernel)",
   "language": "python",
   "name": "python3"
  },
  "language_info": {
   "codemirror_mode": {
    "name": "ipython",
    "version": 3
   },
   "file_extension": ".py",
   "mimetype": "text/x-python",
   "name": "python",
   "nbconvert_exporter": "python",
   "pygments_lexer": "ipython3",
   "version": "3.8.10"
  },
  "latex_envs": {
   "LaTeX_envs_menu_present": true,
   "autoclose": false,
   "autocomplete": true,
   "bibliofile": "biblio.bib",
   "cite_by": "apalike",
   "current_citInitial": 1,
   "eqLabelWithNumbers": true,
   "eqNumInitial": 1,
   "hotkeys": {
    "equation": "Ctrl-E",
    "itemize": "Ctrl-I"
   },
   "labels_anchors": false,
   "latex_user_defs": false,
   "report_style_numbering": false,
   "user_envs_cfg": false
  },
  "varInspector": {
   "cols": {
    "lenName": 16,
    "lenType": 16,
    "lenVar": 40
   },
   "kernels_config": {
    "python": {
     "delete_cmd_postfix": "",
     "delete_cmd_prefix": "del ",
     "library": "var_list.py",
     "varRefreshCmd": "print(var_dic_list())"
    },
    "r": {
     "delete_cmd_postfix": ") ",
     "delete_cmd_prefix": "rm(",
     "library": "var_list.r",
     "varRefreshCmd": "cat(var_dic_list()) "
    }
   },
   "types_to_exclude": [
    "module",
    "function",
    "builtin_function_or_method",
    "instance",
    "_Feature"
   ],
   "window_display": false
  }
 },
 "nbformat": 4,
 "nbformat_minor": 5
}
